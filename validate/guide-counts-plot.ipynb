{
 "cells": [
  {
   "cell_type": "code",
   "execution_count": 1,
   "metadata": {
    "collapsed": true
   },
   "outputs": [],
   "source": [
    "import numpy as np\n",
    "from chandra_aca.star_probs import guide_count, snr_mag_for_t_ccd\n",
    "import matplotlib.pyplot as plt\n",
    "%matplotlib inline"
   ]
  },
  {
   "cell_type": "code",
   "execution_count": 2,
   "metadata": {},
   "outputs": [],
   "source": [
    "mags = np.arange(9.5, 10.5, 0.001)\n",
    "cts = [guide_count(mag, t_ccd=-10.9) for mag in mags]"
   ]
  },
  {
   "cell_type": "code",
   "execution_count": 3,
   "metadata": {
    "collapsed": true
   },
   "outputs": [],
   "source": [
    "def guide_count_424(mags, t_ccd):\n",
    "    \"\"\"\n",
    "    Given mags from guide stars and a temperature, calculate a guide star\n",
    "    fractional count/metric using signal-to-noise scaled mag thresholds.\n",
    "    This uses guide star fractional counts that were suggested at the 7-Mar-2018\n",
    "    SSAWG and agreed upon at the 21-Mar-2018 SSAWG.  The implementation here\n",
    "    uses the ACA planning limit at that time (-10.9C) as the reference temperature.\n",
    "    :param mags: mags of guide star catalog stars\n",
    "    :param t_ccd: ACA CCD temperature at expected time of observation\n",
    "    :returns: fractional count\n",
    "    \"\"\"\n",
    "    # The bright limit does not scale.\n",
    "    thresh0 = 5.9\n",
    "    thresh1 = snr_mag_for_t_ccd(t_ccd, ref_mag=10.0, ref_t_ccd=-10.9)\n",
    "    thresh2 = snr_mag_for_t_ccd(t_ccd, ref_mag=10.2, ref_t_ccd=-10.9)\n",
    "    thresh3 = snr_mag_for_t_ccd(t_ccd, ref_mag=10.3, ref_t_ccd=-10.9)\n",
    "    counts = np.zeros(len(mags))\n",
    "    counts[(mags <= thresh1) & (mags > thresh0)] = 1.0\n",
    "    counts[(mags <= thresh2) & (mags > thresh1)] = 0.75\n",
    "    counts[(mags <= thresh3) & (mags > thresh2)] = 0.5\n",
    "    return np.sum(counts)"
   ]
  },
  {
   "cell_type": "code",
   "execution_count": 4,
   "metadata": {},
   "outputs": [],
   "source": [
    "cts424 = [guide_count_424(np.array([mag]), t_ccd=-10.9) for mag in mags]"
   ]
  },
  {
   "cell_type": "code",
   "execution_count": 5,
   "metadata": {},
   "outputs": [
    {
     "data": {
      "image/png": "[encoded data removed]",
      "text/plain": [
       "<matplotlib.figure.Figure at 0x1137cf550>"
      ]
     },
     "metadata": {},
     "output_type": "display_data"
    }
   ],
   "source": [
    "plt.plot(mags, cts)\n",
    "plt.plot(mags, cts424)\n",
    "plt.grid()"
   ]
  },
  {
   "cell_type": "code",
   "execution_count": 13,
   "metadata": {},
   "outputs": [
    {
     "data": {
      "text/plain": [
       "3.9374999999999964"
      ]
     },
     "execution_count": 13,
     "metadata": {},
     "output_type": "execute_result"
    }
   ],
   "source": [
    "guide_count([10.12]*5, -10.9)"
   ]
  },
  {
   "cell_type": "code",
   "execution_count": null,
   "metadata": {
    "collapsed": true
   },
   "outputs": [],
   "source": []
  }
 ],
 "metadata": {
  "kernelspec": {
   "display_name": "Python [conda env:ska3]",
   "language": "python",
   "name": "conda-env-ska3-py"
  },
  "language_info": {
   "codemirror_mode": {
    "name": "ipython",
    "version": 3
   },
   "file_extension": ".py",
   "mimetype": "text/x-python",
   "name": "python",
   "nbconvert_exporter": "python",
   "pygments_lexer": "ipython3",
   "version": "3.6.2"
  }
 },
 "nbformat": 4,
 "nbformat_minor": 2
}

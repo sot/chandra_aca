{
 "cells": [
  {
   "cell_type": "markdown",
   "metadata": {},
   "source": [
    "## Evaluate speed of get_planet_barycentric() and accuracy of get_planet_chandra()\n",
    "\n",
    "This is for comparison with `pr162_spk_performance_master.ipynb` and used for\n",
    "functional testing of [PR-162](https://github.com/sot/chandra_aca/pull/162).\n",
    "\n",
    "This was run using (effectively) ska3-flight 2023.9rc1 and the \n",
    "[PR-162](https://github.com/sot/chandra_aca/pull/162) branch."
   ]
  },
  {
   "cell_type": "code",
   "execution_count": 1,
   "metadata": {},
   "outputs": [],
   "source": [
    "import matplotlib.pyplot as plt\n",
    "import numpy as np\n",
    "from agasc import sphere_dist\n",
    "from cxotime import CxoTime\n",
    "\n",
    "import chandra_aca\n",
    "from chandra_aca.planets import (\n",
    "    get_planet_barycentric,\n",
    "    get_planet_chandra,\n",
    "    get_planet_chandra_horizons,\n",
    ")\n",
    "from chandra_aca.transform import eci_to_radec"
   ]
  },
  {
   "cell_type": "code",
   "execution_count": 2,
   "metadata": {},
   "outputs": [
    {
     "name": "stdout",
     "output_type": "stream",
     "text": [
      "4.44.1.dev6+ga057383\n"
     ]
    }
   ],
   "source": [
    "print(chandra_aca.__version__)"
   ]
  },
  {
   "cell_type": "code",
   "execution_count": 3,
   "metadata": {},
   "outputs": [],
   "source": [
    "venus = get_planet_chandra_horizons(\"venus\", \"2021:001\", \"2023:001\", 1000)"
   ]
  },
  {
   "cell_type": "code",
   "execution_count": 4,
   "metadata": {},
   "outputs": [],
   "source": [
    "def plot_planet_offsets(t_offset=0):\n",
    "    times = CxoTime(venus[\"time\"]).secs + t_offset\n",
    "    venus_spk = get_planet_chandra(\"venus\", time=times)\n",
    "    ra, dec = eci_to_radec(venus_spk)\n",
    "    venus[\"offset\"] = sphere_dist(ra, dec, venus[\"ra\"], venus[\"dec\"]) * 3600\n",
    "    venus[\"offset\"].format = \"%.2f\"\n",
    "    print(t_offset, venus[\"offset\"].mean(), np.median(venus[\"offset\"]))\n",
    "    plt.hist(venus[\"offset\"], bins=100, log=True)\n",
    "    plt.title(\"Error in Venus position get_planet_chandra() vs. JPL Horizons (arcsec)\")\n",
    "    plt.grid(\"on\")\n",
    "    plt.xlabel(\"Error (arcsec)\")"
   ]
  },
  {
   "cell_type": "code",
   "execution_count": 5,
   "metadata": {},
   "outputs": [
    {
     "name": "stdout",
     "output_type": "stream",
     "text": [
      "0 0.02881096238819422 0.026448300539014948\n"
     ]
    },
    {
     "data": {
      "image/png": "[encoded data removed]",
      "text/plain": [
       "<Figure size 640x480 with 1 Axes>"
      ]
     },
     "metadata": {},
     "output_type": "display_data"
    }
   ],
   "source": [
    "plot_planet_offsets()"
   ]
  },
  {
   "cell_type": "code",
   "execution_count": 6,
   "metadata": {},
   "outputs": [],
   "source": [
    "t0 = CxoTime(\"2020:001:00:00:00.000\").secs\n",
    "t0_float = float(t0)"
   ]
  },
  {
   "cell_type": "code",
   "execution_count": 7,
   "metadata": {},
   "outputs": [],
   "source": [
    "t0_np = np.array([t0])\n",
    "t0_np_scalar = np.array(t0)"
   ]
  },
  {
   "cell_type": "code",
   "execution_count": 8,
   "metadata": {},
   "outputs": [
    {
     "data": {
      "text/plain": [
       "array([-2.54553033e+07,  1.34036944e+08,  5.81091557e+07])"
      ]
     },
     "execution_count": 8,
     "metadata": {},
     "output_type": "execute_result"
    }
   ],
   "source": [
    "get_planet_barycentric(\"earth\", t0_float)"
   ]
  },
  {
   "cell_type": "code",
   "execution_count": 9,
   "metadata": {},
   "outputs": [
    {
     "data": {
      "text/plain": [
       "array([-2.54553033e+07,  1.34036944e+08,  5.81091557e+07])"
      ]
     },
     "execution_count": 9,
     "metadata": {},
     "output_type": "execute_result"
    }
   ],
   "source": [
    "get_planet_barycentric(\"earth\", t0_np_scalar)"
   ]
  },
  {
   "cell_type": "code",
   "execution_count": 10,
   "metadata": {},
   "outputs": [
    {
     "data": {
      "text/plain": [
       "array([[-2.54553033e+07,  1.34036944e+08,  5.81091557e+07]])"
      ]
     },
     "execution_count": 10,
     "metadata": {},
     "output_type": "execute_result"
    }
   ],
   "source": [
    "get_planet_barycentric(\"earth\", t0_np)"
   ]
  },
  {
   "cell_type": "code",
   "execution_count": 11,
   "metadata": {},
   "outputs": [
    {
     "name": "stdout",
     "output_type": "stream",
     "text": [
      "9.84 µs ± 56 ns per loop (mean ± std. dev. of 7 runs, 100,000 loops each)\n"
     ]
    }
   ],
   "source": [
    "%timeit get_planet_barycentric(\"earth\", t0)"
   ]
  },
  {
   "cell_type": "code",
   "execution_count": 12,
   "metadata": {},
   "outputs": [
    {
     "name": "stdout",
     "output_type": "stream",
     "text": [
      "9.85 µs ± 34.5 ns per loop (mean ± std. dev. of 7 runs, 100,000 loops each)\n"
     ]
    }
   ],
   "source": [
    "%timeit get_planet_barycentric(\"earth\", t0_float)"
   ]
  },
  {
   "cell_type": "code",
   "execution_count": 13,
   "metadata": {},
   "outputs": [
    {
     "name": "stdout",
     "output_type": "stream",
     "text": [
      "14.7 µs ± 109 ns per loop (mean ± std. dev. of 7 runs, 100,000 loops each)\n"
     ]
    }
   ],
   "source": [
    "%timeit get_planet_barycentric(\"earth\", t0_np)"
   ]
  },
  {
   "cell_type": "code",
   "execution_count": 14,
   "metadata": {},
   "outputs": [
    {
     "name": "stdout",
     "output_type": "stream",
     "text": [
      "11.1 µs ± 129 ns per loop (mean ± std. dev. of 7 runs, 100,000 loops each)\n"
     ]
    }
   ],
   "source": [
    "%timeit get_planet_barycentric(\"earth\", t0_np_scalar)"
   ]
  }
 ],
 "metadata": {
  "kernelspec": {
   "display_name": "ska3",
   "language": "python",
   "name": "python3"
  },
  "language_info": {
   "codemirror_mode": {
    "name": "ipython",
    "version": 3
   },
   "file_extension": ".py",
   "mimetype": "text/x-python",
   "name": "python",
   "nbconvert_exporter": "python",
   "pygments_lexer": "ipython3",
   "version": "3.10.8"
  }
 },
 "nbformat": 4,
 "nbformat_minor": 2
}

{
 "cells": [
  {
   "cell_type": "markdown",
   "metadata": {},
   "source": [
    "### Maximum dynamical ACA offset size between 2016:180 to 2017:180\n",
    "\n",
    "Compute the maximum dynamical ACA offset between T_ccd = -10 C to -17 C.  The\n",
    "answer is about 37 arcsec for the ACIS-I cycle 18 aimpoint."
   ]
  },
  {
   "cell_type": "code",
   "execution_count": 1,
   "metadata": {
    "collapsed": true
   },
   "outputs": [],
   "source": [
    "from chandra_aca.drift import get_aca_offsets\n",
    "from astropy.table import Table"
   ]
  },
  {
   "cell_type": "code",
   "execution_count": 2,
   "metadata": {
    "collapsed": false
   },
   "outputs": [],
   "source": [
    "zero_offsets = Table.read(\"\"\"\n",
    "date_effective cycle_effective detector   chipx   chipy chip_id obsvis_cal\n",
    "2013-12-01     17               ACIS-I    930.2  1009.6    3      1.8a\n",
    "2013-12-01     17               ACIS-S    200.7   476.9    7      1.8a\n",
    "2013-12-01     17               HRC-I    7591.0  7936.1    0      1.8a\n",
    "2013-12-01     17               HRC-S    2041.0  9062.7    2      1.8a\n",
    "2016-09-01     18               ACIS-I    970.0   975.0    3      1.9\n",
    "2016-09-01     18               ACIS-S    210.0   520.0    7      1.9\n",
    "2016-09-01     18               HRC-I    7590.0  7745.0    0      1.9\n",
    "2016-09-01     18               HRC-S    2195.0  8915.0    2      1.9\n",
    "\"\"\", format='ascii')"
   ]
  },
  {
   "cell_type": "code",
   "execution_count": 3,
   "metadata": {
    "collapsed": true
   },
   "outputs": [],
   "source": [
    "def CtoF(val):\n",
    "    return val * 1.8 + 32.0"
   ]
  },
  {
   "cell_type": "code",
   "execution_count": 4,
   "metadata": {
    "collapsed": false
   },
   "outputs": [
    {
     "name": "stdout",
     "output_type": "stream",
     "text": [
      "t_ccd=-10 degC cycle=17 date=2016:180, det=ACIS-I dy= -7.81 dz= -6.92 r= 10.43 arcsec\n",
      "t_ccd=-10 degC cycle=17 date=2017:180, det=ACIS-I dy= -6.45 dz= -6.51 r=  9.16 arcsec\n",
      "t_ccd=-17 degC cycle=17 date=2016:180, det=ACIS-I dy= 19.70 dz=  6.53 r= 20.75 arcsec\n",
      "t_ccd=-17 degC cycle=17 date=2017:180, det=ACIS-I dy= 21.06 dz=  6.93 r= 22.17 arcsec\n",
      "t_ccd=-10 degC cycle=17 date=2016:180, det=ACIS-S dy= -6.29 dz= -5.74 r=  8.51 arcsec\n",
      "t_ccd=-10 degC cycle=17 date=2017:180, det=ACIS-S dy= -4.92 dz= -5.33 r=  7.25 arcsec\n",
      "t_ccd=-17 degC cycle=17 date=2016:180, det=ACIS-S dy= 21.22 dz=  7.71 r= 22.58 arcsec\n",
      "t_ccd=-17 degC cycle=17 date=2017:180, det=ACIS-S dy= 22.58 dz=  8.12 r= 24.00 arcsec\n",
      "t_ccd=-10 degC cycle=17 date=2016:180, det=HRC-I  dy= -4.91 dz= -8.80 r= 10.08 arcsec\n",
      "t_ccd=-10 degC cycle=17 date=2017:180, det=HRC-I  dy= -3.54 dz= -8.39 r=  9.11 arcsec\n",
      "t_ccd=-17 degC cycle=17 date=2016:180, det=HRC-I  dy= 22.60 dz=  4.64 r= 23.07 arcsec\n",
      "t_ccd=-17 degC cycle=17 date=2017:180, det=HRC-I  dy= 23.96 dz=  5.05 r= 24.49 arcsec\n",
      "t_ccd=-10 degC cycle=17 date=2016:180, det=HRC-S  dy= -2.29 dz= -6.16 r=  6.57 arcsec\n",
      "t_ccd=-10 degC cycle=17 date=2017:180, det=HRC-S  dy= -0.92 dz= -5.75 r=  5.82 arcsec\n",
      "t_ccd=-17 degC cycle=17 date=2016:180, det=HRC-S  dy= 25.22 dz=  7.29 r= 26.25 arcsec\n",
      "t_ccd=-17 degC cycle=17 date=2017:180, det=HRC-S  dy= 26.59 dz=  7.70 r= 27.68 arcsec\n",
      "t_ccd=-10 degC cycle=18 date=2016:180, det=ACIS-I dy=-24.85 dz=-26.46 r= 36.29 arcsec\n",
      "t_ccd=-10 degC cycle=18 date=2017:180, det=ACIS-I dy=-23.48 dz=-26.05 r= 35.07 arcsec\n",
      "t_ccd=-17 degC cycle=18 date=2016:180, det=ACIS-I dy=  2.66 dz=-13.01 r= 13.28 arcsec\n",
      "t_ccd=-17 degC cycle=18 date=2017:180, det=ACIS-I dy=  4.02 dz=-12.60 r= 13.23 arcsec\n",
      "t_ccd=-10 degC cycle=18 date=2016:180, det=ACIS-S dy=-10.85 dz=-26.92 r= 29.03 arcsec\n",
      "t_ccd=-10 degC cycle=18 date=2017:180, det=ACIS-S dy= -9.48 dz=-26.52 r= 28.16 arcsec\n",
      "t_ccd=-17 degC cycle=18 date=2016:180, det=ACIS-S dy= 16.66 dz=-13.48 r= 21.43 arcsec\n",
      "t_ccd=-17 degC cycle=18 date=2017:180, det=ACIS-S dy= 18.02 dz=-13.07 r= 22.27 arcsec\n",
      "t_ccd=-10 degC cycle=18 date=2016:180, det=HRC-I  dy=-22.62 dz=-26.70 r= 34.99 arcsec\n",
      "t_ccd=-10 degC cycle=18 date=2017:180, det=HRC-I  dy=-21.26 dz=-26.29 r= 33.81 arcsec\n",
      "t_ccd=-17 degC cycle=18 date=2016:180, det=HRC-I  dy=  4.89 dz=-13.25 r= 14.13 arcsec\n",
      "t_ccd=-17 degC cycle=18 date=2017:180, det=HRC-I  dy=  6.25 dz=-12.85 r= 14.29 arcsec\n",
      "t_ccd=-10 degC cycle=18 date=2016:180, det=HRC-S  dy=-21.72 dz=-26.47 r= 34.24 arcsec\n",
      "t_ccd=-10 degC cycle=18 date=2017:180, det=HRC-S  dy=-20.36 dz=-26.06 r= 33.07 arcsec\n",
      "t_ccd=-17 degC cycle=18 date=2016:180, det=HRC-S  dy=  5.78 dz=-13.03 r= 14.25 arcsec\n",
      "t_ccd=-17 degC cycle=18 date=2017:180, det=HRC-S  dy=  7.15 dz=-12.62 r= 14.50 arcsec\n"
     ]
    }
   ],
   "source": [
    "r_max = 0\n",
    "for zo in zero_offsets:\n",
    "    for t_ccd in (-10, -17):\n",
    "        for date in ('2016:180', '2017:180'):\n",
    "            dy, dz = get_aca_offsets(zo['detector'], zo['chip_id'], zo['chipx'], zo['chipy'], \n",
    "                                     date, CtoF(t_ccd))\n",
    "            r = np.hypot(dy, dz)\n",
    "            if r > r_max:\n",
    "                r_max = r\n",
    "            print('t_ccd={} degC cycle={} date={}, det={:6s} dy={:6.2f} dz={:6.2f} '\n",
    "                  'r={:6.2f} arcsec'\n",
    "                  .format(t_ccd,  zo['cycle_effective'],date, zo['detector'], dy, dz, r))"
   ]
  },
  {
   "cell_type": "code",
   "execution_count": 5,
   "metadata": {
    "collapsed": false
   },
   "outputs": [
    {
     "name": "stdout",
     "output_type": "stream",
     "text": [
      "Max attitude change (radius) = 36.29 arcsec\n"
     ]
    }
   ],
   "source": [
    "print('Max attitude change (radius) = {:.2f} arcsec'.format(r_max))"
   ]
  },
  {
   "cell_type": "code",
   "execution_count": null,
   "metadata": {
    "collapsed": true
   },
   "outputs": [],
   "source": []
  }
 ],
 "metadata": {
  "kernelspec": {
   "display_name": "Python 2",
   "language": "python",
   "name": "python2"
  },
  "language_info": {
   "codemirror_mode": {
    "name": "ipython",
    "version": 2
   },
   "file_extension": ".py",
   "mimetype": "text/x-python",
   "name": "python",
   "nbconvert_exporter": "python",
   "pygments_lexer": "ipython2",
   "version": "2.7.9"
  }
 },
 "nbformat": 4,
 "nbformat_minor": 0
}
